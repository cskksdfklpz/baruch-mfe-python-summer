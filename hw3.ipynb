{
 "cells": [
  {
   "cell_type": "markdown",
   "metadata": {},
   "source": [
    "# "
   ]
  },
  {
   "cell_type": "markdown",
   "metadata": {},
   "source": [
    "# Homework 3\n",
    "\n",
    "by Quanzhi (Allen) Bi"
   ]
  },
  {
   "cell_type": "markdown",
   "metadata": {},
   "source": [
    "## Problem 1\n",
    "\n",
    "Read the code below and rewrite it using only numpy functions (without for loop, if-else statements). Benchmark your implementation. How much is it faster than the naive python implementation? (hint: use np.isin)\n",
    "\n",
    "```python\n",
    "def func1(names, db):\n",
    "    idx = []\n",
    "    for i in names:\n",
    "        if i in db:\n",
    "            idx.append(db.index(i))\n",
    "    return idx\n",
    "```"
   ]
  },
  {
   "cell_type": "code",
   "execution_count": 56,
   "metadata": {},
   "outputs": [],
   "source": [
    "import numpy as np\n",
    "\n",
    "def func1_py(names, db):\n",
    "    idx = []\n",
    "    for i in names:\n",
    "        if i in db:\n",
    "            idx.append(db.index(i))\n",
    "    return idx\n",
    "\n",
    "def func1_np(names, db):\n",
    "    return np.arange(len(db))[np.isin(db, names)]\n",
    "    \n",
    "names_py = range(1,10000)\n",
    "db_py = range(9000,11000)\n",
    "\n",
    "names_np = np.arange(1,10000)\n",
    "db_np = np.arange(9000,11000)"
   ]
  },
  {
   "cell_type": "markdown",
   "metadata": {},
   "source": [
    "Now we test the performance of two functions"
   ]
  },
  {
   "cell_type": "code",
   "execution_count": 57,
   "metadata": {
    "tags": []
   },
   "outputs": [
    {
     "output_type": "stream",
     "name": "stdout",
     "text": "CPU times: user 2.18 ms, sys: 55 µs, total: 2.23 ms\nWall time: 2.92 ms\n"
    }
   ],
   "source": [
    "%time ret = func1_py(names_py, db_py)"
   ]
  },
  {
   "cell_type": "code",
   "execution_count": 34,
   "metadata": {
    "tags": []
   },
   "outputs": [
    {
     "output_type": "stream",
     "name": "stdout",
     "text": "CPU times: user 794 µs, sys: 93 µs, total: 887 µs\nWall time: 905 µs\n"
    }
   ],
   "source": [
    "%time ret = func1_np(names_np, db_np)"
   ]
  },
  {
   "cell_type": "markdown",
   "metadata": {},
   "source": [
    "## Problem 2\n",
    "\n",
    "Use only numpy functions (without for loop, if-else statements) to find the largest 3 distances between points if either points is inside the circle of raidus r0. Then return these points. E.g.\n",
    "\n",
    "```\n",
    ">>> coordinates = np.array(\n",
    "[[0.968, 0.313],\n",
    " [0.692, 0.876],\n",
    " [0.895, 0.085],\n",
    " [0.039, 0.17 ],\n",
    " [0.878, 0.098]]\n",
    ")\n",
    ">>> cirle_r0 = 0.9\n",
    ">>> print(search_pairs(coordinates, cirle_r0))\n",
    "\n",
    "# The indices of the relevant points in the original coordinates\n",
    "[[2 1]\n",
    " [3 0]\n",
    " [3 1]]\n",
    "```"
   ]
  },
  {
   "cell_type": "code",
   "execution_count": 36,
   "metadata": {},
   "outputs": [],
   "source": [
    "coordinates = np.array(\n",
    "[[0.968, 0.313],\n",
    " [0.692, 0.876],\n",
    " [0.895, 0.085],\n",
    " [0.039, 0.17 ],\n",
    " [0.878, 0.098]]\n",
    ")\n",
    "\n",
    "cirle_r0 = 0.9"
   ]
  },
  {
   "cell_type": "code",
   "execution_count": 54,
   "metadata": {},
   "outputs": [],
   "source": [
    "def search_pairs(coordinates, r0):\n",
    "    # calculate the pairwise distance between the points\n",
    "    pair_dists = np.linalg.norm(coordinates[:, np.newaxis, :] - coordinates, axis=2)\n",
    "    # get the mask whether the point is inside the circle\n",
    "    points_in_r0 = np.linalg.norm(coordinates, axis=1) < r0\n",
    "    # get the mask whether the point pair (pt1, pt2) meets the requirement\n",
    "    # that pt1 in circle xor pt2 in circle\n",
    "    mask_r0 = points_in_r0[:, np.newaxis] ^ points_in_r0\n",
    "    # use just the lower triangular elements of the symmetric distance matrix\n",
    "    mask_uniq_dists = np.tril(np.ones_like(mask_r0), k=-1)\n",
    "    # get the valid distances\n",
    "    uniq_dists = pair_dists[mask_r0 & mask_uniq_dists]\n",
    "    # get the index (what we're supposed to return) of the valid distances\n",
    "    uniq_indices = np.argwhere(mask_r0 & mask_uniq_dists)\n",
    "    # use numpy.argpartition to return the largest 3 pairs \n",
    "    return uniq_indices[np.argpartition(uniq_dists, -3)[-3:]]"
   ]
  },
  {
   "cell_type": "code",
   "execution_count": 55,
   "metadata": {
    "tags": []
   },
   "outputs": [
    {
     "output_type": "stream",
     "name": "stdout",
     "text": "[[2 1]\n [3 0]\n [3 1]]\n"
    }
   ],
   "source": [
    "print(search_pairs(coordinates, cirle_r0))"
   ]
  },
  {
   "cell_type": "code",
   "execution_count": null,
   "metadata": {},
   "outputs": [],
   "source": []
  }
 ],
 "metadata": {
  "kernelspec": {
   "display_name": "Python 3",
   "language": "python",
   "name": "python3"
  },
  "language_info": {
   "codemirror_mode": {
    "name": "ipython",
    "version": 3
   },
   "file_extension": ".py",
   "mimetype": "text/x-python",
   "name": "python",
   "nbconvert_exporter": "python",
   "pygments_lexer": "ipython3",
   "version": "3.7.3-final"
  }
 },
 "nbformat": 4,
 "nbformat_minor": 4
}