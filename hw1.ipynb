{
 "cells": [
  {
   "cell_type": "markdown",
   "metadata": {},
   "source": [
    "# Homework 1\n",
    "\n",
    "by Quanzhi (Allen) Bi"
   ]
  },
  {
   "cell_type": "markdown",
   "metadata": {},
   "source": [
    "## Set up your Python environtment\n",
    "\n",
    "done"
   ]
  },
  {
   "cell_type": "markdown",
   "metadata": {},
   "source": [
    "## Write a Jupyter Magic\n",
    "\n",
    "Write a Jupyter Magic that count the number of words in the cell. Try to make it both a line and cell magic. Demonstrate its usage with examples."
   ]
  },
  {
   "cell_type": "code",
   "execution_count": 1,
   "metadata": {},
   "outputs": [],
   "source": [
    "from IPython.core.magic import (register_line_magic, register_cell_magic,\n",
    "                                register_line_cell_magic)\n",
    "@register_line_cell_magic\n",
    "def countwords(line, cell=None):\n",
    "    \"Magic that works both as %lcmagic and as %%lcmagic\"\n",
    "    if cell is None:\n",
    "        # print(\"Called as line magic\")\n",
    "        tokens = line.split(\" \")\n",
    "        return len(tokens)\n",
    "    else:\n",
    "        # print(\"Called as cell magic\")\n",
    "        tokens = cell.split(\" \")\n",
    "        return len(tokens)\n",
    "\n",
    "# In an interactive session, we need to delete these to avoid\n",
    "# name conflicts for automagic to work on line magics.\n",
    "del countwords"
   ]
  },
  {
   "cell_type": "markdown",
   "metadata": {},
   "source": [
    "Try the line magic"
   ]
  },
  {
   "cell_type": "code",
   "execution_count": 2,
   "metadata": {},
   "outputs": [
    {
     "data": {
      "text/plain": [
       "11"
      ]
     },
     "execution_count": 2,
     "metadata": {},
     "output_type": "execute_result"
    }
   ],
   "source": [
    "%countwords In an interactive session, we need to delete these to avoid"
   ]
  },
  {
   "cell_type": "markdown",
   "metadata": {},
   "source": [
    "Try the cell magic"
   ]
  },
  {
   "cell_type": "code",
   "execution_count": 3,
   "metadata": {},
   "outputs": [
    {
     "data": {
      "text/plain": [
       "19"
      ]
     },
     "execution_count": 3,
     "metadata": {},
     "output_type": "execute_result"
    }
   ],
   "source": [
    "%%countwords\n",
    "In an interactive session, we need to delete these to avoid\n",
    "name conflicts for automagic to work on line magics."
   ]
  },
  {
   "cell_type": "markdown",
   "metadata": {},
   "source": [
    "## Profile the speed of list comprehension vs. for loops\n",
    "\n",
    "I'm duplicating the drifted array using both list comprehension and for loop. We use %%time to measure the duration."
   ]
  },
  {
   "cell_type": "code",
   "execution_count": 4,
   "metadata": {},
   "outputs": [],
   "source": [
    "l1 = [1,2,3,4,5,6,7,8,9,10]\n",
    "l2 = [1,2,3,4,5,6,7,8,9,10]"
   ]
  },
  {
   "cell_type": "code",
   "execution_count": 5,
   "metadata": {},
   "outputs": [
    {
     "name": "stdout",
     "output_type": "stream",
     "text": [
      "CPU times: user 12 µs, sys: 1e+03 ns, total: 13 µs\n",
      "Wall time: 17.2 µs\n"
     ]
    }
   ],
   "source": [
    "%%time\n",
    "l3 = []\n",
    "for i in l1:\n",
    "    l3.append(i+1)"
   ]
  },
  {
   "cell_type": "code",
   "execution_count": 6,
   "metadata": {},
   "outputs": [
    {
     "name": "stdout",
     "output_type": "stream",
     "text": [
      "CPU times: user 12 µs, sys: 1e+03 ns, total: 13 µs\n",
      "Wall time: 18.4 µs\n"
     ]
    }
   ],
   "source": [
    "%%time\n",
    "l4 = [i+1 for i in l2]"
   ]
  },
  {
   "cell_type": "markdown",
   "metadata": {},
   "source": [
    "As we can see list comprehension is more computationally efficient than for loop."
   ]
  },
  {
   "cell_type": "markdown",
   "metadata": {},
   "source": [
    "## Prime numbers\n",
    "\n",
    "Write a function to return all prime numbers in a list. Can you do this with one line of list comprehension?\n",
    "\n",
    "To check whether $a$ is prime or not, we search the factor of $a$ from 2 to $\\sqrt{a}$. If none of them exists, $a$ is prime. The only exception is 2. "
   ]
  },
  {
   "cell_type": "code",
   "execution_count": 7,
   "metadata": {},
   "outputs": [
    {
     "data": {
      "text/plain": [
       "[2, 3, 5, 13, 59, 67]"
      ]
     },
     "execution_count": 7,
     "metadata": {},
     "output_type": "execute_result"
    }
   ],
   "source": [
    "import math\n",
    "l = [2,3,5,8,13,21,34,59,67]\n",
    "prime = [a for a in l if a == 2 or sum([ True if a%factor == 0 else False for factor in ( [2] + list(range(3,int(math.sqrt(a)),2) )) ])==0]\n",
    "prime"
   ]
  },
  {
   "cell_type": "markdown",
   "metadata": {},
   "source": [
    "## Extend the Vector class\n",
    "\n",
    "\n",
    "* Extend the Vector class example to support any dimension.\n",
    "* Think of operations/methods that would be useful when using the Vector class. Do some\n",
    "research on dunder methods to see how you can implement them in a Pythonic way.\n",
    "* Do not worry about performance.\n",
    "* Some examples of usages are."
   ]
  },
  {
   "cell_type": "code",
   "execution_count": 8,
   "metadata": {},
   "outputs": [
    {
     "name": "stdout",
     "output_type": "stream",
     "text": [
      "5\n",
      "4\n",
      "Vector(2,3)\n",
      "Vector(2,4,6,8,10)\n",
      "Vector(0,0,0,0,0)\n",
      "Vector(1,4,9,16,25)\n",
      "Vector(3,6,9,12,15)\n"
     ]
    }
   ],
   "source": [
    "class Vector:\n",
    "    \n",
    "    # initialize the Vector using list\n",
    "    def __init__(self, *args):\n",
    "        self.container = []\n",
    "        for i in args:\n",
    "            self.container.append(i)\n",
    "        self.len = len(self.container)\n",
    "        \n",
    "    # return the length of the Vector\n",
    "    def __len__(self):\n",
    "        return self.len\n",
    "    \n",
    "    # get the item of the Vector\n",
    "    def __getitem__(self, index):\n",
    "        if isinstance(index, slice):\n",
    "            return Vector(*self.container[index])\n",
    "        return self.container[index]\n",
    "    \n",
    "    # Print the Vector as Vector(a1,a2,...)\n",
    "    def __repr__(self):\n",
    "        ret = \"Vector(\"\n",
    "        for i in self.container:\n",
    "            ret = ret + str(i) + \",\"\n",
    "        ret = ret[0:-1]\n",
    "        ret = ret + \")\"\n",
    "        return ret\n",
    "    \n",
    "    # v1+v2\n",
    "    def __add__(self, other):\n",
    "        if self.len != len(other):\n",
    "            print (\"vectors must have the same dimension!\")\n",
    "            return\n",
    "        \n",
    "        ret = []\n",
    "        for i in range(len(other)):\n",
    "            ret.append(self[i]+other[i])\n",
    "        return Vector(*ret)\n",
    "    \n",
    "    # v1-v2\n",
    "    def __sub__(self, other):\n",
    "        if self.len != len(other):\n",
    "            print (\"vectors must have the same dimension!\")\n",
    "            return\n",
    "        \n",
    "        ret = []\n",
    "        for i in range(len(other)):\n",
    "            ret.append(self[i]-other[i])\n",
    "        return Vector(*ret)\n",
    "    # v1 ** 2\n",
    "    def __pow__(self, p):\n",
    "        ret = []\n",
    "        for i in range(self.len):\n",
    "            ret.append(self[i] ** p)\n",
    "        return Vector(*ret)\n",
    "    # v1 * a\n",
    "    def __mul__(self, mul):\n",
    "        if isinstance(mul, list) == False:\n",
    "            ret = []\n",
    "            for i in range(self.len):\n",
    "                ret.append(self[i] * mul)\n",
    "            return Vector(*ret)\n",
    "        else:\n",
    "            print(\"multiplication only support for scalar\")\n",
    "        \n",
    "v = Vector(1,2,3,4,5)\n",
    "print (len(v))\n",
    "print (v[3])\n",
    "print (v[1:3])\n",
    "print (v+v)\n",
    "print (v-v)\n",
    "print (v ** 2)\n",
    "print (v * 3)"
   ]
  },
  {
   "cell_type": "markdown",
   "metadata": {},
   "source": [
    "## Case-insensitive dictionary\n",
    "\n",
    "* Write a CaseInsensitiveDict class that is insensitive to the case of keys. \n",
    "* It’s a good idea to inherit from collections.UserDict.\n",
    "* Use examples to demonstrate how it should be used."
   ]
  },
  {
   "cell_type": "code",
   "execution_count": 9,
   "metadata": {},
   "outputs": [],
   "source": [
    "from collections import UserDict\n",
    "\n",
    "# inherit from collections.UserDict\n",
    "class CaseInsensitiveDict(UserDict):\n",
    "    \n",
    "    # initialize using UserDict\n",
    "    def __init__(self):\n",
    "        self.dict = UserDict()\n",
    "    \n",
    "    def __str__(self):\n",
    "        return self.dict.__str__()\n",
    "    \n",
    "    def __contains__(self, key):\n",
    "        if str(key).upper() in self.dict:\n",
    "            return True\n",
    "        if str(key).lower() in self.dict:\n",
    "            return True\n",
    "        return False\n",
    "\n",
    "    def __setitem__(self, key, value):\n",
    "        # use the original key\n",
    "        if str(key).upper() in self.dict:\n",
    "            self.dict[str(key).upper()] = value\n",
    "        elif str(key).lower() in self.dict:\n",
    "            self.dict[str(key).lower()] = value\n",
    "        else:\n",
    "            self.dict[str(key)] = value\n",
    "    \n",
    "    def __getitem__(self, key):\n",
    "        if str(key).upper() in self.dict:\n",
    "            return self.dict[str(key).upper()]\n",
    "        elif str(key).lower() in self.dict:\n",
    "            return self.dict[str(key).lower()]\n",
    "        else:\n",
    "            print (\"Key not found.\")\n",
    "            "
   ]
  },
  {
   "cell_type": "code",
   "execution_count": 10,
   "metadata": {},
   "outputs": [
    {
     "name": "stdout",
     "output_type": "stream",
     "text": [
      "3\n",
      "4\n",
      "{'A': 4}\n"
     ]
    }
   ],
   "source": [
    "d = CaseInsensitiveDict() \n",
    "d['A'] = 3\n",
    "print(d['a'])\n",
    "d['a'] = 4\n",
    "print(d['a'])\n",
    "print(d)"
   ]
  },
  {
   "cell_type": "code",
   "execution_count": null,
   "metadata": {},
   "outputs": [],
   "source": []
  }
 ],
 "metadata": {
  "kernelspec": {
   "display_name": "Python 3",
   "language": "python",
   "name": "python3"
  },
  "language_info": {
   "codemirror_mode": {
    "name": "ipython",
    "version": 3
   },
   "file_extension": ".py",
   "mimetype": "text/x-python",
   "name": "python",
   "nbconvert_exporter": "python",
   "pygments_lexer": "ipython3",
   "version": "3.7.3"
  }
 },
 "nbformat": 4,
 "nbformat_minor": 4
}
