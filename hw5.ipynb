{
 "cells": [
  {
   "cell_type": "markdown",
   "metadata": {},
   "source": [
    "# Question 1 Algorithmic questions\n",
    "Find the kth largest element in an unsorted array. Note that it is the kth largest element in the sorted order, not the kth distinct element."
   ]
  },
  {
   "cell_type": "code",
   "execution_count": 2,
   "metadata": {
    "execution": {
     "iopub.execute_input": "2020-08-22T13:57:22.229325Z",
     "iopub.status.busy": "2020-08-22T13:57:22.228782Z",
     "iopub.status.idle": "2020-08-22T13:57:22.239330Z",
     "shell.execute_reply": "2020-08-22T13:57:22.237554Z",
     "shell.execute_reply.started": "2020-08-22T13:57:22.229262Z"
    }
   },
   "outputs": [],
   "source": [
    "import heapq\n",
    "\n",
    "def klargest(arr, k):\n",
    "    \n",
    "    \"\"\"\n",
    "    arr: input array with n elements\n",
    "    k: the \n",
    "    Time Complexity: O(n + k log(n))\n",
    "    \"\"\"\n",
    "    \n",
    "    heapq.heapify(arr)        \n",
    "    for i in range(len(arr) - k):\n",
    "        heapq.heappop(arr)    \n",
    "    return heapq.heappop(arr)"
   ]
  },
  {
   "cell_type": "code",
   "execution_count": 3,
   "metadata": {
    "execution": {
     "iopub.execute_input": "2020-08-22T14:00:09.229880Z",
     "iopub.status.busy": "2020-08-22T14:00:09.229338Z",
     "iopub.status.idle": "2020-08-22T14:00:09.247201Z",
     "shell.execute_reply": "2020-08-22T14:00:09.245587Z",
     "shell.execute_reply.started": "2020-08-22T14:00:09.229815Z"
    }
   },
   "outputs": [
    {
     "name": "stdout",
     "output_type": "stream",
     "text": [
      "7\n",
      "7\n",
      "6\n",
      "1\n"
     ]
    }
   ],
   "source": [
    "# unsorted\n",
    "array1,k1 = [2,5,4,7,6,8,3,2,1],2\n",
    "# sorted\n",
    "array2,k2 = [1,2,3,4,5,6,7,8,9],3\n",
    "# reversed\n",
    "array3,k3 = [9,8,7,6,5,4,3,2,1],4\n",
    "# const\n",
    "array4,k4 = [1,1,1,1,1,1,1,1,1],5\n",
    "\n",
    "print(klargest(array1,k1))\n",
    "print(klargest(array2,k2))\n",
    "print(klargest(array3,k3))\n",
    "print(klargest(array4,k4))"
   ]
  },
  {
   "cell_type": "markdown",
   "metadata": {},
   "source": [
    "# Question 2 Multithreading pop.\n",
    "Using python data structure Queue, generate a queue that have 10000 elments. Then use 1, 5, 20 threads to pop out the elments out. Compare the efficiency when you use different number of threads and explain why you see the pattern of performance."
   ]
  },
  {
   "cell_type": "code",
   "execution_count": 4,
   "metadata": {
    "execution": {
     "iopub.execute_input": "2020-08-22T14:04:08.952128Z",
     "iopub.status.busy": "2020-08-22T14:04:08.951782Z",
     "iopub.status.idle": "2020-08-22T14:04:08.956502Z",
     "shell.execute_reply": "2020-08-22T14:04:08.955589Z",
     "shell.execute_reply.started": "2020-08-22T14:04:08.952089Z"
    }
   },
   "outputs": [],
   "source": [
    "import threading\n",
    "import queue\n",
    "import time"
   ]
  },
  {
   "cell_type": "code",
   "execution_count": 18,
   "metadata": {
    "execution": {
     "iopub.execute_input": "2020-08-22T14:13:44.612034Z",
     "iopub.status.busy": "2020-08-22T14:13:44.611471Z",
     "iopub.status.idle": "2020-08-22T14:13:44.696731Z",
     "shell.execute_reply": "2020-08-22T14:13:44.695986Z",
     "shell.execute_reply.started": "2020-08-22T14:13:44.611971Z"
    }
   },
   "outputs": [],
   "source": [
    "q1 = queue.Queue()\n",
    "q5 = queue.Queue()\n",
    "q20 = queue.Queue()\n",
    "for i in range(10000):\n",
    "    q1.put(i)\n",
    "    q5.put(i)\n",
    "    q20.put(i)\n",
    "    \n",
    "def worker(q):\n",
    "    while q.empty() == False:\n",
    "        item = q.get()\n",
    "    \n",
    "    \n",
    "def nthread(q, n):\n",
    "    threads = []\n",
    "    for i in range(n):\n",
    "        t = threading.Thread(target = worker, args = (q, ))\n",
    "        t.start()\n",
    "        threads.append(t)\n",
    "    for i in range(n):\n",
    "        threads[i].join()"
   ]
  },
  {
   "cell_type": "code",
   "execution_count": 19,
   "metadata": {
    "execution": {
     "iopub.execute_input": "2020-08-22T14:13:46.255095Z",
     "iopub.status.busy": "2020-08-22T14:13:46.254572Z",
     "iopub.status.idle": "2020-08-22T14:13:46.305786Z",
     "shell.execute_reply": "2020-08-22T14:13:46.304879Z",
     "shell.execute_reply.started": "2020-08-22T14:13:46.255033Z"
    }
   },
   "outputs": [
    {
     "name": "stdout",
     "output_type": "stream",
     "text": [
      "CPU times: user 45.4 ms, sys: 25 µs, total: 45.5 ms\n",
      "Wall time: 43.8 ms\n"
     ]
    }
   ],
   "source": [
    "%time nthread(q1,1)"
   ]
  },
  {
   "cell_type": "code",
   "execution_count": 22,
   "metadata": {
    "execution": {
     "iopub.execute_input": "2020-08-22T14:14:01.783127Z",
     "iopub.status.busy": "2020-08-22T14:14:01.782605Z",
     "iopub.status.idle": "2020-08-22T14:14:01.793549Z",
     "shell.execute_reply": "2020-08-22T14:14:01.792674Z",
     "shell.execute_reply.started": "2020-08-22T14:14:01.783064Z"
    }
   },
   "outputs": [
    {
     "name": "stdout",
     "output_type": "stream",
     "text": [
      "CPU times: user 542 µs, sys: 4.15 ms, total: 4.69 ms\n",
      "Wall time: 2.76 ms\n"
     ]
    }
   ],
   "source": [
    "%time nthread(q5,5)"
   ]
  },
  {
   "cell_type": "code",
   "execution_count": 23,
   "metadata": {
    "execution": {
     "iopub.execute_input": "2020-08-22T14:14:05.516667Z",
     "iopub.status.busy": "2020-08-22T14:14:05.516140Z",
     "iopub.status.idle": "2020-08-22T14:14:05.531683Z",
     "shell.execute_reply": "2020-08-22T14:14:05.530537Z",
     "shell.execute_reply.started": "2020-08-22T14:14:05.516604Z"
    }
   },
   "outputs": [
    {
     "name": "stdout",
     "output_type": "stream",
     "text": [
      "CPU times: user 5.25 ms, sys: 4.18 ms, total: 9.43 ms\n",
      "Wall time: 6.52 ms\n"
     ]
    }
   ],
   "source": [
    "%time nthread(q20,20)"
   ]
  },
  {
   "cell_type": "markdown",
   "metadata": {},
   "source": [
    "`nthread(5) > nthread(20) > nthread(1)`\n",
    "\n",
    "This is because we can benefit from parallel computing only we have that many processors. My computer doesn't have 20 cores so 20 threads won't help me."
   ]
  },
  {
   "cell_type": "code",
   "execution_count": null,
   "metadata": {},
   "outputs": [],
   "source": []
  }
 ],
 "metadata": {
  "kernelspec": {
   "display_name": "Python 3",
   "language": "python",
   "name": "python3"
  },
  "language_info": {
   "codemirror_mode": {
    "name": "ipython",
    "version": 3
   },
   "file_extension": ".py",
   "mimetype": "text/x-python",
   "name": "python",
   "nbconvert_exporter": "python",
   "pygments_lexer": "ipython3",
   "version": "3.8.3"
  }
 },
 "nbformat": 4,
 "nbformat_minor": 4
}
